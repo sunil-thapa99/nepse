{
 "cells": [
  {
   "cell_type": "code",
   "execution_count": 9,
   "metadata": {},
   "outputs": [],
   "source": [
    "import psycopg2"
   ]
  },
  {
   "cell_type": "code",
   "execution_count": 41,
   "metadata": {},
   "outputs": [],
   "source": [
    "conn = psycopg2.connect(database=\"nepse\",\n",
    "                        host=\"localhost\",\n",
    "                        user=\"postgres\",\n",
    "                        password=\"1234\",\n",
    "                        port=\"5433\")"
   ]
  },
  {
   "cell_type": "code",
   "execution_count": 42,
   "metadata": {},
   "outputs": [],
   "source": [
    "cursor = conn.cursor()"
   ]
  },
  {
   "cell_type": "code",
   "execution_count": 30,
   "metadata": {},
   "outputs": [],
   "source": [
    "def create_tables():\n",
    "    \"\"\" Create tables in the PostgreSQL database \"\"\"\n",
    "    commands = (\n",
    "        \"\"\" CREATE TABLE IF NOT EXISTS COMPANIES (\n",
    "                id SERIAL PRIMARY KEY,\n",
    "                name TEXT UNIQUE,\n",
    "                sector TEXT  -- e.g., Bank, Hydropower\n",
    "            )\n",
    "        \"\"\",\n",
    "        \"\"\" CREATE TABLE IF NOT EXISTS REPORTS (\n",
    "                id SERIAL PRIMARY KEY,\n",
    "                company_id INT REFERENCES COMPANIES(id) ON DELETE CASCADE,\n",
    "                report_type TEXT CHECK (report_type IN ('Balance Sheet', 'Profit & Loss', 'Key Metrics', 'Ratio Analysis', 'Others')),\n",
    "                fiscal_year INT,\n",
    "                quarter INT,\n",
    "                uploaded_at TIMESTAMP DEFAULT NOW(),\n",
    "                UNIQUE (company_id, fiscal_year, quarter, report_type)\n",
    "            )\n",
    "        \"\"\",\n",
    "        \"\"\" CREATE TABLE IF NOT EXISTS REPORT_DATA (\n",
    "                id SERIAL PRIMARY KEY,\n",
    "                report_id INT REFERENCES REPORTS(id) ON DELETE CASCADE,\n",
    "                metric TEXT,  -- Column name from CSV (e.g., 'Total Assets', 'Net Profit')\n",
    "                value NUMERIC,  -- The actual numerical value of the metric\n",
    "                unit TEXT  -- Currency (NPR), percentage (%), or ratio\n",
    "            )\n",
    "        \"\"\"\n",
    "    )\n",
    "    try:\n",
    "        # Execute each command in a transaction\n",
    "        for command in commands:\n",
    "            cursor.execute(command)\n",
    "\n",
    "        # Commit changes\n",
    "        conn.commit()\n",
    "        print(\"Tables created successfully.\")\n",
    "\n",
    "    except (Exception, psycopg2.DatabaseError) as error:\n",
    "        print(f\"Error: {error}\")\n",
    "        if conn:\n",
    "            conn.rollback()  # Rollback on error\n",
    "\n",
    "    finally:\n",
    "        if cursor:\n",
    "            cursor.close()\n",
    "        if conn:\n",
    "            conn.close()\n"
   ]
  },
  {
   "cell_type": "code",
   "execution_count": 31,
   "metadata": {},
   "outputs": [
    {
     "name": "stdout",
     "output_type": "stream",
     "text": [
      "Tables created successfully.\n"
     ]
    }
   ],
   "source": [
    "create_tables()"
   ]
  },
  {
   "cell_type": "code",
   "execution_count": 45,
   "metadata": {},
   "outputs": [],
   "source": [
    "# Drop table COMPANIES\n",
    "sql = '''DROP TABLE COMPANIES'''\n",
    "\n",
    "cursor.execute(sql)\n",
    "conn.commit()\n"
   ]
  },
  {
   "cell_type": "code",
   "execution_count": 46,
   "metadata": {},
   "outputs": [],
   "source": [
    "cursor.close()\n",
    "conn.close()"
   ]
  },
  {
   "cell_type": "code",
   "execution_count": null,
   "metadata": {},
   "outputs": [],
   "source": [
    "# Create table companies\n",
    "data = []"
   ]
  }
 ],
 "metadata": {
  "kernelspec": {
   "display_name": "nepse",
   "language": "python",
   "name": "python3"
  },
  "language_info": {
   "codemirror_mode": {
    "name": "ipython",
    "version": 3
   },
   "file_extension": ".py",
   "mimetype": "text/x-python",
   "name": "python",
   "nbconvert_exporter": "python",
   "pygments_lexer": "ipython3",
   "version": "3.10.16"
  }
 },
 "nbformat": 4,
 "nbformat_minor": 2
}
