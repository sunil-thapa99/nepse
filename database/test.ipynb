{
 "cells": [
  {
   "cell_type": "code",
   "execution_count": 8,
   "metadata": {},
   "outputs": [],
   "source": [
    "import psycopg2\n",
    "conn = psycopg2.connect(database=\"nepse\",\n",
    "                        host=\"localhost\",\n",
    "                        user=\"postgres\",\n",
    "                        password=\"1234\",\n",
    "                        port=\"5433\")"
   ]
  },
  {
   "cell_type": "code",
   "execution_count": 9,
   "metadata": {},
   "outputs": [],
   "source": [
    "cursor = conn.cursor()"
   ]
  },
  {
   "cell_type": "code",
   "execution_count": null,
   "metadata": {},
   "outputs": [],
   "source": [
    "cursor.execute('''DROP SCHEMA public CASCADE;''')"
   ]
  },
  {
   "cell_type": "code",
   "execution_count": 10,
   "metadata": {},
   "outputs": [
    {
     "name": "stdout",
     "output_type": "stream",
     "text": [
      "\n",
      "--- Contents of table: companies ---\n",
      "Columns: ['id', 'name', 'sector_id', 'symbol', 'listed_shares', 'market_cap', 'paid_up_capital']\n",
      "(1, 'NMB Bank Limited', 1, 'NMB', 183667060, 46100432060, 18366706000)\n",
      "\n",
      "--- Contents of table: reports ---\n",
      "Columns: ['id', 'company_id', 'report_type', 'fiscal_year', 'quarter', 'uploaded_at']\n",
      "\n",
      "--- Contents of table: sector ---\n",
      "Columns: ['id', 'name']\n",
      "(1, 'Commercial Bank')\n"
     ]
    }
   ],
   "source": [
    "# Step 1: Get all table names from public schema\n",
    "sql = '''\n",
    "SELECT table_name FROM information_schema.tables\n",
    "WHERE table_schema = 'public'\n",
    "AND table_type = 'BASE TABLE';\n",
    "'''\n",
    "cursor.execute(sql)\n",
    "tables = cursor.fetchall()  # list of tuples\n",
    "\n",
    "# Step 2: Iterate over each table and fetch its content\n",
    "for (table_name,) in tables:\n",
    "    print(f\"\\n--- Contents of table: {table_name} ---\")\n",
    "    try:\n",
    "        cursor.execute(f'SELECT * FROM \"{table_name}\" LIMIT 100;')  # Limit to avoid huge output\n",
    "        rows = cursor.fetchall()\n",
    "        columns = [desc[0] for desc in cursor.description]\n",
    "        \n",
    "        print(f\"Columns: {columns}\")\n",
    "        for row in rows:\n",
    "            print(row)\n",
    "    except Exception as e:\n",
    "        print(f\"Error reading {table_name}: {e}\")\n",
    "\n"
   ]
  },
  {
   "cell_type": "code",
   "execution_count": null,
   "metadata": {},
   "outputs": [],
   "source": []
  }
 ],
 "metadata": {
  "kernelspec": {
   "display_name": "nepse",
   "language": "python",
   "name": "python3"
  },
  "language_info": {
   "codemirror_mode": {
    "name": "ipython",
    "version": 3
   },
   "file_extension": ".py",
   "mimetype": "text/x-python",
   "name": "python",
   "nbconvert_exporter": "python",
   "pygments_lexer": "ipython3",
   "version": "3.10.16"
  }
 },
 "nbformat": 4,
 "nbformat_minor": 2
}
