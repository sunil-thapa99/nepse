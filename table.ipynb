{
 "cells": [
  {
   "cell_type": "code",
   "execution_count": 1,
   "metadata": {},
   "outputs": [],
   "source": [
    "import cv2\n",
    "import numpy as np"
   ]
  },
  {
   "cell_type": "code",
   "execution_count": 2,
   "metadata": {},
   "outputs": [],
   "source": [
    "def convert_image_to_grayscale(self):\n",
    "    self.grayscale_image = cv2.cvtColor(self.image, cv2.COLOR_BGR2GRAY)\n",
    "\n",
    "def threshold_image(self):\n",
    "    self.thresholded_image = cv2.threshold(self.grayscale_image, 0, 255, cv2.THRESH_BINARY + cv2.THRESH_OTSU)[1]\n",
    "\n",
    "def invert_image(self):\n",
    "    self.inverted_image = cv2.bitwise_not(self.thresholded_image)\n",
    "\n",
    "def dilate_image(self):\n",
    "    self.dilated_image = cv2.dilate(self.inverted_image, None, iterations=5)"
   ]
  },
  {
   "cell_type": "code",
   "execution_count": 3,
   "metadata": {},
   "outputs": [],
   "source": [
    "def find_contours(self):\n",
    "    self.contours, self.hierarchy = cv2.findContours(self.dilated_image, cv2.RETR_TREE, cv2.CHAIN_APPROX_SIMPLE)\n",
    "    # Below lines are added to show all contours\n",
    "    # This is not needed, but it is useful for debugging\n",
    "    self.image_with_all_contours = self.image.copy()\n",
    "    cv2.drawContours(self.image_with_all_contours, self.contours, -1, (0, 255, 0), 3)\n",
    "\n",
    "def filter_contours_and_leave_only_rectangles(self):\n",
    "    self.rectangular_contours = []\n",
    "    for contour in self.contours:\n",
    "        peri = cv2.arcLength(contour, True)\n",
    "        approx = cv2.approxPolyDP(contour, 0.02 * peri, True)\n",
    "        if len(approx) == 4:\n",
    "            self.rectangular_contours.append(approx)\n",
    "    # Below lines are added to show all rectangular contours\n",
    "    # This is not needed, but it is useful for debugging\n",
    "    self.image_with_only_rectangular_contours = self.image.copy()\n",
    "    cv2.drawContours(self.image_with_only_rectangular_contours, self.rectangular_contours, -1, (0, 255, 0), 3)\n",
    "\n",
    "def find_largest_contour_by_area(self):\n",
    "    max_area = 0\n",
    "    self.contour_with_max_area = None\n",
    "    for contour in self.rectangular_contours:\n",
    "        area = cv2.contourArea(contour)\n",
    "        if area > max_area:\n",
    "            max_area = area\n",
    "            self.contour_with_max_area = contour\n",
    "    # Below lines are added to show the contour with max area\n",
    "    # This is not needed, but it is useful for debugging\n",
    "    self.image_with_contour_with_max_area = self.image.copy()\n",
    "    cv2.drawContours(self.image_with_contour_with_max_area, [self.contour_with_max_area], -1, (0, 255, 0), 3)"
   ]
  },
  {
   "cell_type": "code",
   "execution_count": 4,
   "metadata": {},
   "outputs": [],
   "source": [
    "def order_points_in_the_contour_with_max_area(self):\n",
    "    self.contour_with_max_area_ordered = self.order_points(self.contour_with_max_area)\n",
    "    # The code below is to plot the points on the image\n",
    "    # it is not required for the perspective transform\n",
    "    # it will help you to understand and debug the code\n",
    "    self.image_with_points_plotted = self.image.copy()\n",
    "    for point in self.contour_with_max_area_ordered:\n",
    "        point_coordinates = (int(point[0]), int(point[1]))\n",
    "        self.image_with_points_plotted = cv2.circle(self.image_with_points_plotted, point_coordinates, 10, (0, 0, 255), -1)\n",
    "\n",
    "def calculate_new_width_and_height_of_image(self):\n",
    "    existing_image_width = self.image.shape[1]\n",
    "    existing_image_width_reduced_by_10_percent = int(existing_image_width * 0.9)\n",
    "    \n",
    "    distance_between_top_left_and_top_right = self.calculateDistanceBetween2Points(self.contour_with_max_area_ordered[0], self.contour_with_max_area_ordered[1])\n",
    "    distance_between_top_left_and_bottom_left = self.calculateDistanceBetween2Points(self.contour_with_max_area_ordered[0], self.contour_with_max_area_ordered[3])\n",
    "\n",
    "    aspect_ratio = distance_between_top_left_and_bottom_left / distance_between_top_left_and_top_right\n",
    "\n",
    "    self.new_image_width = existing_image_width_reduced_by_10_percent\n",
    "    self.new_image_height = int(self.new_image_width * aspect_ratio)\n",
    "\n",
    "def apply_perspective_transform(self):\n",
    "    pts1 = np.float32(self.contour_with_max_area_ordered)\n",
    "    pts2 = np.float32([[0, 0], [self.new_image_width, 0], [self.new_image_width, self.new_image_height], [0, self.new_image_height]])\n",
    "    matrix = cv2.getPerspectiveTransform(pts1, pts2)\n",
    "    self.perspective_corrected_image = cv2.warpPerspective(self.image, matrix, (self.new_image_width, self.new_image_height))\n",
    "\n",
    "# Below are helper functions\n",
    "def calculateDistanceBetween2Points(self, p1, p2):\n",
    "    dis = ((p2[0] - p1[0]) ** 2 + (p2[1] - p1[1]) ** 2) ** 0.5\n",
    "    return dis\n",
    "\n",
    "def order_points(self, pts):\n",
    "    # initialzie a list of coordinates that will be ordered\n",
    "    # such that the first entry in the list is the top-left,\n",
    "    # the second entry is the top-right, the third is the\n",
    "    # bottom-right, and the fourth is the bottom-left\n",
    "    pts = pts.reshape(4, 2)\n",
    "    rect = np.zeros((4, 2), dtype=\"float32\")\n",
    "\n",
    "    # the top-left point will have the smallest sum, whereas\n",
    "    # the bottom-right point will have the largest sum\n",
    "    s = pts.sum(axis=1)\n",
    "    rect[0] = pts[np.argmin(s)]\n",
    "    rect[2] = pts[np.argmax(s)]\n",
    "\n",
    "    # now, compute the difference between the points, the\n",
    "    # top-right point will have the smallest difference,\n",
    "    # whereas the bottom-left will have the largest difference\n",
    "    diff = np.diff(pts, axis=1)\n",
    "    rect[1] = pts[np.argmin(diff)]\n",
    "    rect[3] = pts[np.argmax(diff)]\n",
    "\n",
    "    # return the ordered coordinates\n",
    "    return rect"
   ]
  },
  {
   "cell_type": "code",
   "execution_count": 5,
   "metadata": {},
   "outputs": [],
   "source": [
    "def add_10_percent_padding(self):\n",
    "    image_height = self.image.shape[0]\n",
    "    padding = int(image_height * 0.1)\n",
    "    self.perspective_corrected_image_with_padding = cv2.copyMakeBorder(self.perspective_corrected_image, padding, padding, padding, padding, cv2.BORDER_CONSTANT, value=[255, 255, 255])"
   ]
  },
  {
   "cell_type": "code",
   "execution_count": null,
   "metadata": {},
   "outputs": [],
   "source": []
  }
 ],
 "metadata": {
  "kernelspec": {
   "display_name": "base",
   "language": "python",
   "name": "python3"
  },
  "language_info": {
   "codemirror_mode": {
    "name": "ipython",
    "version": 3
   },
   "file_extension": ".py",
   "mimetype": "text/x-python",
   "name": "python",
   "nbconvert_exporter": "python",
   "pygments_lexer": "ipython3",
   "version": "3.12.4"
  }
 },
 "nbformat": 4,
 "nbformat_minor": 2
}
